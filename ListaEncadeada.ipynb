{
  "nbformat": 4,
  "nbformat_minor": 0,
  "metadata": {
    "colab": {
      "name": "ListaEncadeada.ipynb",
      "provenance": [],
      "collapsed_sections": [],
      "include_colab_link": true
    },
    "kernelspec": {
      "name": "python3",
      "display_name": "Python 3"
    },
    "language_info": {
      "name": "python"
    }
  },
  "cells": [
    {
      "cell_type": "markdown",
      "metadata": {
        "id": "view-in-github",
        "colab_type": "text"
      },
      "source": [
        "<a href=\"https://colab.research.google.com/github/denilsonfbar/estruturas-de-dados/blob/main/ListaEncadeada.ipynb\" target=\"_parent\"><img src=\"https://colab.research.google.com/assets/colab-badge.svg\" alt=\"Open In Colab\"/></a>"
      ]
    },
    {
      "cell_type": "code",
      "execution_count": null,
      "metadata": {
        "colab": {
          "base_uri": "https://localhost:8080/"
        },
        "id": "qVOjqRSmXlx0",
        "outputId": "f2a1b5c3-d4ec-4a1a-f5c2-ae18be24ebe6"
      },
      "outputs": [
        {
          "output_type": "stream",
          "name": "stdout",
          "text": [
            "Overwriting lista.h\n"
          ]
        }
      ],
      "source": [
        "%%writefile lista.h\n",
        "#ifndef LISTALIGADA_H\n",
        "#define LISTALIGADA_H\n",
        "\n",
        "typedef int Item;\n",
        "struct node {\n",
        "  Item item;\n",
        "  struct node * next;  \n",
        "};\n",
        "typedef struct node * link;\n",
        "typedef link Node;\n",
        "\n",
        "Node novaLista();\n",
        "void destroiLista(Node head);\n",
        "Node novoNo(int item);\n",
        "void insereDepois(Node x, Node t);\n",
        "Node removeDepois(Node x);\n",
        "int listaVazia (Node head);\n",
        "void imprimeLista(Node head);\n",
        "\n",
        "#endif"
      ]
    },
    {
      "cell_type": "code",
      "source": [
        "%%writefile lista.c\n",
        "#include <stdlib.h>\n",
        "#include <stdio.h>\n",
        "#include \"lista.h\"\n",
        "\n",
        "Node novoNo(int item) {\n",
        "    Node n = (Node) malloc(sizeof(struct node));\n",
        "    n->item = item;\n",
        "    n->next = 0;\n",
        "    return n;\n",
        "}\n",
        "\n",
        "Node novaLista() {\n",
        "    Node head = novoNo(1);\n",
        "    head->next = 0;\n",
        "    return head;\n",
        "}\n",
        "\n",
        "int listaVazia(Node head){\n",
        "    return (head->next == 0);\n",
        "}\n",
        "\n",
        "void destroiLista(Node head){\n",
        "    link t;\n",
        "    link x;\n",
        "    t = head->next;\n",
        "    while (t != 0){\n",
        "        x = removeDepois (t);\n",
        "        t = x->next;\n",
        "        free(x);\n",
        "    }\n",
        "    free(head);\n",
        "}\n",
        "\n",
        "void insereDepois (Node x, Node t){\n",
        "    t->next = x->next;\n",
        "    x->next = t;\n",
        "}\n",
        "\n",
        "Node removeDepois(Node x){\n",
        "    link t = x->next;\n",
        "    x->next = x->next->next;\n",
        "    return t;\n",
        "}\n",
        "\n",
        "void imprimeLista(Node head){\n",
        "    link t;\n",
        "    for(t = head->next; t!=0; t=t->next)\n",
        "       printf(\"%d \", t->item);\n",
        "}\n",
        "\n",
        "\n",
        "\n"
      ],
      "metadata": {
        "colab": {
          "base_uri": "https://localhost:8080/"
        },
        "id": "JSj7HHpkZKB9",
        "outputId": "388ed76b-a54b-4c4d-cfef-091a3cc61baf"
      },
      "execution_count": null,
      "outputs": [
        {
          "output_type": "stream",
          "name": "stdout",
          "text": [
            "Overwriting lista.c\n"
          ]
        }
      ]
    },
    {
      "cell_type": "code",
      "source": [
        "%%writefile main.c\n",
        "\n",
        "#include <stdio.h>\n",
        "#include \"lista.h\"\n",
        "\n",
        "int main () {\n",
        "    Node lista = novaLista();\n",
        "    Node aux;\n",
        "    insereDepois(lista, novoNo(1));\n",
        "    insereDepois(lista, novoNo(2));\n",
        "    insereDepois(lista, novoNo(3));\n",
        "    imprimeLista(lista);\n",
        "  \n",
        "#if 0\n",
        "   destroiLista(lista);\n",
        "#endif\n",
        "    return 0;\n",
        "}"
      ],
      "metadata": {
        "colab": {
          "base_uri": "https://localhost:8080/"
        },
        "id": "_0Ox_vZ6ZhIB",
        "outputId": "9a8981b0-5734-4cee-b7cd-4c6c8345343c"
      },
      "execution_count": null,
      "outputs": [
        {
          "output_type": "stream",
          "name": "stdout",
          "text": [
            "Overwriting main.c\n"
          ]
        }
      ]
    },
    {
      "cell_type": "code",
      "source": [
        "%%shell\n",
        "gcc main.c lista.c -o teste\n",
        "./teste"
      ],
      "metadata": {
        "colab": {
          "base_uri": "https://localhost:8080/"
        },
        "id": "u6aFy8Zubp8o",
        "outputId": "1edbc42a-2dbc-4c80-b4d7-3f2fdb5ff1f5"
      },
      "execution_count": null,
      "outputs": [
        {
          "output_type": "stream",
          "name": "stdout",
          "text": [
            "3 2 1 "
          ]
        },
        {
          "output_type": "execute_result",
          "data": {
            "text/plain": [
              ""
            ]
          },
          "metadata": {},
          "execution_count": 19
        }
      ]
    },
    {
      "cell_type": "code",
      "source": [
        "%%writefile fila.h\n",
        "#ifndef FILA_H\n",
        "#define FILA_H\n",
        "#include \"lista.h\"\n",
        "\n",
        "struct fila {\n",
        "  Node ultimo;\n",
        "  Node head;  \n",
        "};\n",
        "typedef struct fila * Fila;\n",
        "Fila novaFila();\n",
        "void insereNaFila(Fila f, Item i);\n",
        "Item removeDaFila(Fila f);\n",
        "void destroiFila();\n",
        "\n",
        "#endif"
      ],
      "metadata": {
        "colab": {
          "base_uri": "https://localhost:8080/"
        },
        "id": "NlrmSIe0bwb0",
        "outputId": "a00a9f81-3190-4a61-eb72-98d90615e1ca"
      },
      "execution_count": null,
      "outputs": [
        {
          "output_type": "stream",
          "name": "stdout",
          "text": [
            "Writing fila.h\n"
          ]
        }
      ]
    },
    {
      "cell_type": "code",
      "source": [
        "%%writefile fila.c\n",
        "#include \"fila.h\"\n",
        "#include <stdio.h>\n",
        "#include <stdlib.h>\n",
        "int filaVazia(Fila f){\n",
        "    return listaVazia(f->head);\n",
        "}\n",
        "\n",
        "Fila novaFila() {\n",
        "    Fila f = (Fila) malloc(sizeof(*f));\n",
        "    f->head = novaLista();\n",
        "    f->ultimo = f->head;\n",
        "    return f;\n",
        "}\n",
        "\n",
        "void insereNaFila (Fila f, Item i){\n",
        "    Node n = novoNo(i);\n",
        "    insereDepois(f->ultimo, n);\n",
        "    f->ultimo = n;\n",
        "}\n",
        "\n",
        "Item removeDaFila (Fila f){\n",
        "    Node n;\n",
        "    Item x; \n",
        "    if (listaVazia(f->head))\n",
        "       {\n",
        "           printf(\"ERRO: A fila esta vazia!\");\n",
        "           return 0;\n",
        "       }\n",
        "    n = removeDepois(f->head);\n",
        "    x = n->item;\n",
        "    free(n);\n",
        "    return x;\n",
        "}\n",
        "\n",
        "void destroiFila(Fila f){\n",
        "    destroiLista(f->head);\n",
        "    free(f);\n",
        "}\n",
        "\n"
      ],
      "metadata": {
        "colab": {
          "base_uri": "https://localhost:8080/"
        },
        "id": "OSbuLbkmeRAV",
        "outputId": "3b7f1ab5-6e58-42de-9148-40cbc053c24a"
      },
      "execution_count": null,
      "outputs": [
        {
          "output_type": "stream",
          "name": "stdout",
          "text": [
            "Overwriting fila.c\n"
          ]
        }
      ]
    },
    {
      "cell_type": "code",
      "source": [
        "%%writefile mainFila.c\n",
        "#include <stdio.h>\n",
        "#include <stdlib.h>\n",
        "#include \"fila.h\"\n",
        "\n",
        "int main () {\n",
        "    Fila f = novaFila();\n",
        "    insereNaFila(f, 5);\n",
        "    insereNaFila(f, 2);\n",
        "    insereNaFila(f, 1);\n",
        "    insereNaFila(f, 4);\n",
        "    printf(\"%d \\n\", removeDaFila(f));\n",
        "    printf(\"%d \\n\", removeDaFila(f));\n",
        "    printf(\"%d \\n\", removeDaFila(f));\n",
        "    printf(\"%d \\n\", removeDaFila(f));\n",
        "    \n",
        "    return 0;\n",
        "}"
      ],
      "metadata": {
        "colab": {
          "base_uri": "https://localhost:8080/"
        },
        "id": "2cm9nz2RfOqw",
        "outputId": "08531d03-d156-4791-9252-919fff4932a1"
      },
      "execution_count": null,
      "outputs": [
        {
          "output_type": "stream",
          "name": "stdout",
          "text": [
            "Overwriting mainFila.c\n"
          ]
        }
      ]
    },
    {
      "cell_type": "code",
      "source": [
        "%%shell\n",
        "gcc fila.c lista.c mainFila.c -o testeFila\n",
        "./testeFila"
      ],
      "metadata": {
        "colab": {
          "base_uri": "https://localhost:8080/"
        },
        "id": "blVhDB4PfssY",
        "outputId": "5c0f5e5f-e447-48e7-e560-09bbf976a69d"
      },
      "execution_count": null,
      "outputs": [
        {
          "output_type": "stream",
          "name": "stdout",
          "text": [
            "5 \n",
            "2 \n",
            "1 \n",
            "4 \n"
          ]
        },
        {
          "output_type": "execute_result",
          "data": {
            "text/plain": [
              ""
            ]
          },
          "metadata": {},
          "execution_count": 40
        }
      ]
    },
    {
      "cell_type": "code",
      "source": [
        "%%writefile pilha.h\n",
        "#ifndef PILHA_H\n",
        "#define PILHA_H\n",
        "#include \"lista.h\"\n",
        "typedef struct {\n",
        "    Node head;\n",
        "} Pilha;\n",
        "\n",
        "Pilha *novaPilha();\n",
        "void destroiPilha(Pilha *p);\n",
        "int vazia(Pilha *p);\n",
        "int pop(Pilha *p);\n",
        "void push(Pilha *p, int item);\n",
        "int topo(Pilha *p);\n",
        "void imprimePilha(Pilha *p);\n",
        "\n",
        "#endif"
      ],
      "metadata": {
        "colab": {
          "base_uri": "https://localhost:8080/"
        },
        "id": "UZWrEIaKf3D7",
        "outputId": "1f283ee9-8ba9-4053-8332-90d5d03d6268"
      },
      "execution_count": null,
      "outputs": [
        {
          "output_type": "stream",
          "name": "stdout",
          "text": [
            "Overwriting pilha.h\n"
          ]
        }
      ]
    },
    {
      "cell_type": "code",
      "source": [
        "%%writefile pilha.c\n",
        "#include <stdio.h>\n",
        "#include <stdlib.h>\n",
        "#include \"pilha.h\"\n",
        "#include \"lista.h\"\n",
        "\n",
        "Pilha *novaPilha(){\n",
        "    Pilha *p = malloc(sizeof(*p));\n",
        "    p->head = novaLista();\n",
        "    return p;\n",
        "}\n",
        "void destroiPilha(Pilha *p){\n",
        "    destroiLista(p->head);\n",
        "    free(p);\n",
        "}\n",
        "\n",
        "int vazia(Pilha *p){\n",
        "    return listaVazia(p->head);\n",
        "}\n",
        "\n",
        "int pop(Pilha *p){\n",
        "    Node x = removeDepois(p->head);\n",
        "    if(x != 0){ \n",
        "      int aux = x->item;\n",
        "      free(x);\n",
        "      return aux;\n",
        "    }\n",
        "    printf(\"ERRO: Pilha vazia\\n\");\n",
        "    return 0;\n",
        "}\n",
        "\n",
        "void push(Pilha *p, int item){\n",
        "    Node n = novoNo(item);\n",
        "    insereDepois(p->head, n);\n",
        "}\n",
        "int topo(Pilha *p){\n",
        "    return p->head->next->item;\n",
        "}\n",
        "void imprimePilha(Pilha *p){\n",
        "    imprimeLista(p->head);\n",
        "}\n",
        "\n",
        "\n"
      ],
      "metadata": {
        "colab": {
          "base_uri": "https://localhost:8080/"
        },
        "id": "oYsxe8CRiCAP",
        "outputId": "458fcfa9-6655-4ae8-87d5-4e29ad5e888d"
      },
      "execution_count": null,
      "outputs": [
        {
          "output_type": "stream",
          "name": "stdout",
          "text": [
            "Overwriting pilha.c\n"
          ]
        }
      ]
    },
    {
      "cell_type": "code",
      "source": [
        "%%shell\n",
        "gcc -c pilha.c "
      ],
      "metadata": {
        "colab": {
          "base_uri": "https://localhost:8080/"
        },
        "id": "0tBb3tyFjY1m",
        "outputId": "a9fd537e-661e-4d07-dd30-f9bba2e7e46d"
      },
      "execution_count": null,
      "outputs": [
        {
          "output_type": "execute_result",
          "data": {
            "text/plain": [
              ""
            ]
          },
          "metadata": {},
          "execution_count": 86
        }
      ]
    },
    {
      "cell_type": "code",
      "source": [
        "%%writefile main.c\n",
        "\n",
        "#include <stdio.h>\n",
        "#include <stdlib.h>\n",
        "#include \"pilha.h\"\n",
        "\n",
        "int main() {\n",
        "    Pilha *p = novaPilha();\n",
        "    push(p, 3);\n",
        "    push(p, 2);\n",
        "    push(p, 1);\n",
        "  \n",
        "    push(p, pop(p) + pop(p));\n",
        "    push(p, pop(p) + pop(p));\n",
        "    printf(\"topo: %d\\n\", topo(p));\n",
        " \n",
        "    return 0;\n",
        "}"
      ],
      "metadata": {
        "colab": {
          "base_uri": "https://localhost:8080/"
        },
        "id": "OsP5sRU3jb49",
        "outputId": "9a168008-6b36-4ced-ca73-8851c3794139"
      },
      "execution_count": null,
      "outputs": [
        {
          "output_type": "stream",
          "name": "stdout",
          "text": [
            "Overwriting main.c\n"
          ]
        }
      ]
    },
    {
      "cell_type": "code",
      "source": [
        "%%shell \n",
        "gcc -c main.c\n",
        "gcc -c lista.c"
      ],
      "metadata": {
        "colab": {
          "base_uri": "https://localhost:8080/"
        },
        "id": "uThGo0ZukY9j",
        "outputId": "dc7929d7-a3d9-4aed-d59f-2701b9e84197"
      },
      "execution_count": null,
      "outputs": [
        {
          "output_type": "execute_result",
          "data": {
            "text/plain": [
              ""
            ]
          },
          "metadata": {},
          "execution_count": 92
        }
      ]
    },
    {
      "cell_type": "code",
      "source": [
        "%%shell\n",
        "gcc lista.o pilha.o main.o -o testePilha "
      ],
      "metadata": {
        "colab": {
          "base_uri": "https://localhost:8080/"
        },
        "id": "of8lSUJ9kbrD",
        "outputId": "4696480a-c69b-4cef-86a3-0ff3e00ad3a8"
      },
      "execution_count": null,
      "outputs": [
        {
          "output_type": "execute_result",
          "data": {
            "text/plain": [
              ""
            ]
          },
          "metadata": {},
          "execution_count": 93
        }
      ]
    },
    {
      "cell_type": "code",
      "source": [
        "%%shell\n",
        "./testePilha"
      ],
      "metadata": {
        "colab": {
          "base_uri": "https://localhost:8080/"
        },
        "id": "w0u6wBtukl2o",
        "outputId": "f9537974-2bcb-4e49-b4cd-b68f960d3b02"
      },
      "execution_count": null,
      "outputs": [
        {
          "output_type": "stream",
          "name": "stdout",
          "text": [
            "topo: 6\n"
          ]
        },
        {
          "output_type": "execute_result",
          "data": {
            "text/plain": [
              ""
            ]
          },
          "metadata": {},
          "execution_count": 94
        }
      ]
    },
    {
      "cell_type": "code",
      "source": [
        ""
      ],
      "metadata": {
        "id": "wfbNhEPMkySv"
      },
      "execution_count": null,
      "outputs": []
    }
  ]
}